{
 "cells": [
  {
   "cell_type": "markdown",
   "id": "e3d3ad07",
   "metadata": {},
   "source": [
    "# Implementing linear regression to predict Individual medical costs billed by health insurance implemntation of linear regression"
   ]
  },
  {
   "cell_type": "code",
   "execution_count": 214,
   "id": "0feabd55",
   "metadata": {},
   "outputs": [],
   "source": [
    "#import libraries\n",
    "import numpy as np\n",
    "import pandas as pd\n",
    "import matplotlib.pyplot as plt\n",
    "from sklearn.preprocessing import LabelEncoder\n",
    "le = LabelEncoder()"
   ]
  },
  {
   "cell_type": "markdown",
   "id": "fe924e20",
   "metadata": {},
   "source": [
    "# Implmentation of linear regression"
   ]
  },
  {
   "cell_type": "code",
   "execution_count": 215,
   "id": "4ecac68c",
   "metadata": {},
   "outputs": [],
   "source": [
    "#function of linear regression \n",
    "def fit_linear_regression(X, Y, learning_rate, iterations):\n",
    "    m, n = X.shape\n",
    "    W = np.zeros((n,1))\n",
    "    b = 0\n",
    "\n",
    "    for i in range(iterations):\n",
    "        Y_pred = predict_linear_regression(X, W, b)\n",
    "        dW = - (2 * np.dot(X.T, Y - Y_pred)) / m\n",
    "        db = - 2 * np.sum(Y - Y_pred) / m\n",
    "        W -= learning_rate * dW\n",
    "        b -= learning_rate * db\n",
    "\n",
    "    return W, b\n"
   ]
  },
  {
   "cell_type": "code",
   "execution_count": 216,
   "id": "a2f8e3cb",
   "metadata": {},
   "outputs": [],
   "source": [
    "#function of prediction\n",
    "def predict_linear_regression(X, W, b):\n",
    "    return np.dot(X, W) + b"
   ]
  },
  {
   "cell_type": "code",
   "execution_count": 217,
   "id": "cbd08722",
   "metadata": {},
   "outputs": [],
   "source": [
    "# normalization function should be used instead of standard scalling\n",
    "def normalize_features(X):\n",
    "    means = np.mean(X, axis=0)\n",
    "    stds = np.std(X, axis=0)\n",
    "    normalized_X = (X - means) / stds\n",
    "    return normalized_X,means,stds"
   ]
  },
  {
   "cell_type": "code",
   "execution_count": 218,
   "id": "891d26c1",
   "metadata": {},
   "outputs": [],
   "source": [
    "# to cancel the effect of normalization to represent the actual data\n",
    "def denormalization(normalized_x,mean_x,std_x):\n",
    "    denormalized_x=(normalized_x*std_x)+mean_x.flatten()\n",
    "    return denormalized_x"
   ]
  },
  {
   "cell_type": "code",
   "execution_count": 219,
   "id": "af3c15a0",
   "metadata": {},
   "outputs": [],
   "source": [
    "#function to calculate r2 score\n",
    "def r2_score(y, y_predict):\n",
    "    mean_actual = np.mean(y)\n",
    "    ssr = np.sum((y - y_predict) ** 2)\n",
    "    sst = np.sum((y - mean_actual) ** 2)\n",
    "    r2 = 1 - (ssr / sst)\n",
    "    return r2"
   ]
  },
  {
   "cell_type": "code",
   "execution_count": 220,
   "id": "6451c98f",
   "metadata": {},
   "outputs": [],
   "source": [
    "#function to calculate mean square error \n",
    "def mean_sqrt_error(y, y_pred):\n",
    "    return np.mean(np.square(y - y_pred))"
   ]
  },
  {
   "cell_type": "markdown",
   "id": "c9059f39",
   "metadata": {},
   "source": [
    "# Import data"
   ]
  },
  {
   "cell_type": "code",
   "execution_count": 221,
   "id": "1b1fb97a",
   "metadata": {},
   "outputs": [],
   "source": [
    "df=pd.read_csv(\"insurance.csv\")"
   ]
  },
  {
   "cell_type": "markdown",
   "id": "1b6a193a",
   "metadata": {},
   "source": [
    "# Data Preparation"
   ]
  },
  {
   "cell_type": "code",
   "execution_count": 222,
   "id": "95335fdc",
   "metadata": {},
   "outputs": [],
   "source": [
    "# convert string into numirc data values using encode \n",
    "df['smoker'] = le.fit_transform(df['smoker'])\n",
    "df['sex'] = le.fit_transform(df['sex'])\n",
    "df['region'] = le.fit_transform(df['region'])"
   ]
  },
  {
   "cell_type": "code",
   "execution_count": 223,
   "id": "8cb220f8",
   "metadata": {},
   "outputs": [],
   "source": [
    "# spllitng data \n",
    "X = df.iloc[:, :-1].values\n",
    "Y = df.iloc[:, -1].values"
   ]
  },
  {
   "cell_type": "code",
   "execution_count": 224,
   "id": "0b2d2121",
   "metadata": {},
   "outputs": [],
   "source": [
    "# Normalize the input features\n",
    "x_normalizaed, x_mean, x_std = normalize_features(X)\n",
    "y_normalized, y_mean, y_std = normalize_features(Y.reshape(-1, 1))"
   ]
  },
  {
   "cell_type": "code",
   "execution_count": 225,
   "id": "fa884a1a",
   "metadata": {},
   "outputs": [],
   "source": [
    "# set learning rate and number of iterations \n",
    "learning_rate = 0.001\n",
    "iterations = 1000"
   ]
  },
  {
   "cell_type": "code",
   "execution_count": 226,
   "id": "671d9257",
   "metadata": {},
   "outputs": [],
   "source": [
    "# Get weights and bias\n",
    "W, b = fit_linear_regression(x_normalizaed, y_normalized, learning_rate, iterations)\n",
    "Y_pred = predict_linear_regression(x_normalizaed, W, b)"
   ]
  },
  {
   "cell_type": "code",
   "execution_count": 227,
   "id": "c834bf3c",
   "metadata": {},
   "outputs": [
    {
     "name": "stdout",
     "output_type": "stream",
     "text": [
      "Predicted values: [[ 0.82]\n",
      " [-0.66]\n",
      " [-0.42]]\n",
      "Real values: [ 9724.53     8547.6913  45702.02235]\n",
      "Trained W: [[ 0.25758991]\n",
      " [ 0.01204144]\n",
      " [ 0.15144114]\n",
      " [ 0.04631775]\n",
      " [ 0.68362955]\n",
      " [-0.02214987]]\n",
      "Trained b: -2.7646046886742136e-17\n"
     ]
    }
   ],
   "source": [
    "print(\"Predicted values:\", np.round(Y_pred[:3], 2))\n",
    "print(\"Real values:\", Y_test[:3])\n",
    "print(\"Trained W:\", W)\n",
    "print(\"Trained b:\", b)"
   ]
  },
  {
   "cell_type": "markdown",
   "id": "14a9d389",
   "metadata": {},
   "source": [
    "# Evalute the model"
   ]
  },
  {
   "cell_type": "code",
   "execution_count": 228,
   "id": "14ebb890",
   "metadata": {},
   "outputs": [
    {
     "data": {
      "text/plain": [
       "0.2634000367224449"
      ]
     },
     "execution_count": 228,
     "metadata": {},
     "output_type": "execute_result"
    }
   ],
   "source": [
    "# calculate mean square error\n",
    "mean_square_error=mean_sqrt_error(y_normalized,Y_pred)\n",
    "mean_square_error"
   ]
  },
  {
   "cell_type": "code",
   "execution_count": 229,
   "id": "9fc34eaa",
   "metadata": {},
   "outputs": [
    {
     "data": {
      "text/plain": [
       "0.7365999632775551"
      ]
     },
     "execution_count": 229,
     "metadata": {},
     "output_type": "execute_result"
    }
   ],
   "source": [
    "#calculate r2 score \n",
    "r2_score=r2_score(y_normalized,Y_pred)\n",
    "r2_score"
   ]
  },
  {
   "cell_type": "markdown",
   "id": "e14a5602",
   "metadata": {},
   "source": [
    "# Plotting actual data with linear regression line"
   ]
  },
  {
   "cell_type": "code",
   "execution_count": 230,
   "id": "4a1bbea5",
   "metadata": {},
   "outputs": [
    {
     "data": {
      "image/png": "[encoded data removed]",
      "text/plain": [
       "<Figure size 432x288 with 1 Axes>"
      ]
     },
     "metadata": {
      "needs_background": "light"
     },
     "output_type": "display_data"
    }
   ],
   "source": [
    "# let's represent the linear reg function\n",
    "plt.scatter(y_normalized, Y_pred, color='blue', label='Actual')\n",
    "plt.plot([min(y_normalized), max(y_normalized)], [min(y_normalized), max(y_normalized)], color='red', label='Predicted')\n",
    "plt.xlabel('Actual values')\n",
    "plt.ylabel('Predicted values')\n",
    "plt.title('Actual vs Predicted insurances')\n",
    "plt.show()"
   ]
  },
  {
   "cell_type": "markdown",
   "id": "2f3d6ca5",
   "metadata": {},
   "source": [
    "# Denormalization "
   ]
  },
  {
   "cell_type": "code",
   "execution_count": 231,
   "id": "7bbaa72c",
   "metadata": {},
   "outputs": [],
   "source": [
    "#denormlization the output to represent the actual values\n",
    "y_denormalized=denormalization(y_normalized,y_mean,y_std)\n",
    "y_pred_denormalized=denormalization(Y_pred,y_mean,y_std)"
   ]
  },
  {
   "cell_type": "code",
   "execution_count": 232,
   "id": "5dfced4b",
   "metadata": {},
   "outputs": [
    {
     "data": {
      "image/png": "[encoded data removed]",
      "text/plain": [
       "<Figure size 432x288 with 1 Axes>"
      ]
     },
     "metadata": {
      "needs_background": "light"
     },
     "output_type": "display_data"
    }
   ],
   "source": [
    "plt.scatter(y_denormalized, y_pred_denormalized, color='blue', label='Actual')\n",
    "plt.plot([min(y_denormalized), max(y_denormalized)], [min(y_denormalized), max(y_denormalized)], color='red', label='Predicted')\n",
    "plt.xlabel('Actual values')\n",
    "plt.ylabel('Predicted values')\n",
    "plt.title('Actual vs Predicted insurances')\n",
    "plt.show()"
   ]
  }
 ],
 "metadata": {
  "kernelspec": {
   "display_name": "Python 3",
   "language": "python",
   "name": "python3"
  },
  "language_info": {
   "codemirror_mode": {
    "name": "ipython",
    "version": 3
   },
   "file_extension": ".py",
   "mimetype": "text/x-python",
   "name": "python",
   "nbconvert_exporter": "python",
   "pygments_lexer": "ipython3",
   "version": "3.8.8"
  }
 },
 "nbformat": 4,
 "nbformat_minor": 5
}
